{
 "cells": [
  {
   "cell_type": "markdown",
   "metadata": {},
   "source": [
    "# Solar Panel Shading Evaluation - Joseph Wilson\n",
    "\n",
    "## Background\n",
    "\n",
    "The purpose of this script is to determine the losses of a solar array due to shading that occurs from the shadow of solar panels falling onto the next row. This calculation is necessary because if solar panels are placed far enough apart that their shadow does not fall onto other panels then the capacity factor of the array will decrease because most of the sunlight will not hit any panel. Optimization of the solar array must be conducted in order to determine the ideal distance between rows and panels that minimizes the shading losses and maximizes the energy captured.\n",
    "\n",
    "## Assumptions\n",
    "\n",
    "This model assumes that there is no change in elevation between the panels. It also assumes that there is no shading from surrounding structures, e.g. environmental shading. \n",
    "\n",
    "## Inputs\n",
    "\n",
    "Section 1 contains user defined physical attributes of the solar array system. Section 2 will import a 2D matrix representing the solar panel array, the direct normal irradiance at the location, and the Sky Diffusivity for each month."
   ]
  },
  {
   "cell_type": "code",
   "execution_count": 1,
   "metadata": {},
   "outputs": [],
   "source": [
    "import numpy as np"
   ]
  },
  {
   "cell_type": "markdown",
   "metadata": {},
   "source": [
    "# Section 1: System Values\n",
    "\n",
    "Below are values that are inherent to the system based, on the physical location and the system attributes.\n",
    "\n",
    "This includes the height and width of the panels, the tilt relative to the ground, the azimuth of the system, how much space is between each panel, and how much space is between each row. All length values are in cm.\n",
    "\n",
    "An array is then created that represents the surface of a single panel and the space between it and the next panel in that row.\n",
    "\n",
    "L represents the distance between a spot on one panel and the corresponding location on the next panel. This is necessary to calculate due to how row spacing is defined for solar array systems, as the horizontal distance between the top of one panel to the bottom of the corresponding panel in the next row."
   ]
  },
  {
   "cell_type": "code",
   "execution_count": 2,
   "metadata": {},
   "outputs": [],
   "source": [
    "latitude = 32.39\n",
    "lat_rad = latitude*np.pi/180\n",
    "longitude = -106.74\n",
    "standard_long = -105\n",
    "beta = 32.39\n",
    "tilt = beta * np.pi/180\n",
    "panel_azimuth = (-10)*np.pi/180\n",
    "rho = 0.2\n",
    "H, W = int(146), int(202)\n",
    "panel_spacing = int(0 * 2.54)\n",
    "row_spacing = 35 * 2.54\n",
    "panel_dims = np.concatenate((np.ones((H,W)),np.zeros((H,panel_spacing))),axis=1).astype(bool)\n",
    "L = row_spacing + H*np.cos(tilt)"
   ]
  },
  {
   "cell_type": "markdown",
   "metadata": {},
   "source": [
    "# Section 2: Evaluation Data\n",
    "\n",
    "This section imports Direct Normal Irradiance and Sky Diffusivity (which is assumed to be constant for each month). DNI should be a column for each time point being evaluated and Sky Diffusivity should be a list of 12 values.\n",
    "\n",
    "If multiple years are being evaluated, the DNI data for each year must be put in a different column because they will be averaged in this section if this is the case."
   ]
  },
  {
   "cell_type": "code",
   "execution_count": 3,
   "metadata": {},
   "outputs": [],
   "source": [
    "dni = np.loadtxt('DNI.txt')\n",
    "sky_diffusivity = np.loadtxt('sky_diffusivity.txt')\n",
    "if dni.ndim != 1:\n",
    "    dni = np.average(dni,axis=1)"
   ]
  },
  {
   "cell_type": "markdown",
   "metadata": {},
   "source": [
    "# Section 3: Array Creation\n",
    "\n",
    "Based on the timescale of the DNI imported, this will set up some of the arrays needed to calculate total insolation."
   ]
  },
  {
   "cell_type": "code",
   "execution_count": 4,
   "metadata": {},
   "outputs": [],
   "source": [
    "numDays = 365\n",
    "days_in_month = np.array([31, 28, 31, 30, 31, 30, 31, 31, 30, 31, 30, 31])\n",
    "julian_date = np.linspace(1,numDays,numDays)\n",
    "numHours = 24*numDays\n",
    "hours = np.linspace(0,numHours-1,numHours)\n",
    "time_resolution = int(len(dni) / numHours)\n",
    "julian_date_array = np.repeat(julian_date,24*time_resolution)\n",
    "if time_resolution != 1:\n",
    "    hours = np.repeat(hours,time_resolution)\n",
    "    minutes_array = np.linspace(0,60,time_resolution+1)\n",
    "    minutes_array = np.tile(minutes_array[minutes_array != 60],numHours)"
   ]
  },
  {
   "cell_type": "markdown",
   "metadata": {},
   "source": [
    "# Section 4: Calculations\n",
    "\n",
    "This section performs calculations on the Direction Normal Irradiance and global position to get the insolation, solar altitude, and solar azimuth for each time point being evaluated.\n",
    "\n",
    "The computational time to compute the shading is significant. To reduce this time, the entries of the calculated data where the insolation is 0 or negative are removed since no solar power is produced at these times."
   ]
  },
  {
   "cell_type": "code",
   "execution_count": 5,
   "metadata": {},
   "outputs": [],
   "source": [
    "declination_angle = 23.45*np.sin((360/365)*(284+julian_date_array))*np.pi/180\n",
    "B = (360/364)*(julian_date_array-81)*np.pi/180\n",
    "et = 9.87*np.sin(2*B) - 7.53*np.cos(B)-1.5*np.sin(B)\n",
    "solar_time = (60*hours)+minutes_array+et+(4*(standard_long-longitude))\n",
    "h_s = ((solar_time-720)/4)*np.pi/180\n",
    "solar_altitude = np.arcsin(np.sin(lat_rad)*np.sin(declination_angle)+np.cos(lat_rad)*np.cos(declination_angle)*np.cos(h_s))\n",
    "solar_azimuth = np.arcsin(np.cos(declination_angle)*np.sin(h_s)/np.cos(solar_altitude))\n",
    "incident_angle = np.cos(solar_altitude)*np.cos(solar_azimuth-panel_azimuth)*np.sin(tilt)+np.sin(solar_altitude)*np.cos(tilt)\n",
    "C_array = np.repeat(np.repeat(sky_diffusivity,days_in_month),24*time_resolution)\n",
    "I_bc = dni*incident_angle\n",
    "I_dc = np.multiply(C_array,dni)*(1+np.cos(tilt)/2)\n",
    "I_rc = rho*dni*(np.sin(solar_altitude)+C_array)*(np.sin(0.5*tilt)**2)\n",
    "insolation = I_bc+I_dc+I_rc\n",
    "solar_altitude = solar_altitude[insolation>0]\n",
    "solar_azimuth  = solar_azimuth[insolation>0]\n",
    "insolation = insolation[insolation>0]\n",
    "rel_solar_azimuth  = (solar_azimuth - panel_azimuth)\n",
    "tot_insolation = sum(insolation)\n",
    "numTimes = len(insolation)"
   ]
  },
  {
   "cell_type": "markdown",
   "metadata": {},
   "source": [
    "# Section 5: The Solar Array\n",
    "\n",
    "Define entire solar array as a single matrix, with 0 in spaces without panel and 1 in spaces with panel.\n",
    "\n",
    "Row ordering starts with front row with respect to the sun, and the column ordering goes West to East. In other words, the matrix is flipped vertically compared to the physical solar array.\n",
    "\n",
    "An example of what this matrix looks like would be:\n",
    "\n",
    "0, 0, 0, 0, 0, 0, 0, 0, 0, 0, 0, 1, 1, 1, 1, 1, 1, 1, 1, 1, 1, 0, 1, 1, 1, 1, 1, 1, 1, 1, 1\n",
    "\n",
    "0, 0, 0, 0, 0, 0, 0, 0, 0, 0, 0, 1, 1, 1, 1, 1, 1, 1, 1, 1, 1, 0, 1, 1, 1, 1, 1, 1, 1, 1, 1\n",
    "\n",
    "0, 0, 0, 0, 0, 0, 0, 0, 0, 0, 1, 1, 1, 1, 1, 1, 1, 1, 1, 1, 1, 0, 1, 1, 1, 1, 1, 1, 1, 1, 1\n",
    "\n",
    "0, 0, 0, 0, 0, 0, 0, 0, 0, 0, 1, 1, 1, 1, 1, 1, 1, 1, 1, 1, 1, 0, 1, 1, 1, 1, 1, 1, 1, 0, 0\n",
    "\n",
    "0, 0, 1, 1, 1, 1, 1, 1, 1, 1, 1, 1, 1, 1, 1, 1, 1, 1, 1, 1, 1, 0, 1, 1, 1, 1, 1, 1, 1, 0, 0\n",
    "\n",
    "0, 0, 1, 1, 1, 1, 1, 1, 1, 1, 1, 1, 1, 1, 1, 1, 1, 1, 1, 1, 1, 0, 1, 1, 1, 1, 1, 1, 1, 0, 0\n",
    "\n",
    "1, 1, 1, 1, 1, 1, 1, 1, 1, 1, 1, 1, 1, 1, 1, 1, 1, 1, 1, 1, 1, 0, 1, 1, 1, 1, 1, 0, 0, 0, 0\n",
    "\n",
    "1, 1, 1, 1, 1, 1, 1, 1, 1, 1, 1, 1, 1, 1, 1, 1, 1, 1, 1, 1, 1, 0, 1, 1, 1, 1, 1, 0, 0, 0, 0\n",
    "\n",
    "1, 1, 1, 1, 1, 1, 1, 1, 1, 1, 1, 1, 1, 1, 1, 1, 1, 1, 1, 1, 1, 0, 1, 1, 1, 1, 1, 0, 0, 0, 0\n",
    "\n",
    "1, 1, 1, 1, 1, 1, 1, 1, 1, 1, 1, 1, 1, 1, 1, 1, 1, 1, 1, 1, 1, 0, 1, 1, 1, 1, 1, 0, 0, 0, 0\n",
    "\n",
    "Which corresponds to the following example solar array:\n",
    "\n",
    "![title](example_solar_array.png)"
   ]
  },
  {
   "cell_type": "code",
   "execution_count": 6,
   "metadata": {},
   "outputs": [],
   "source": [
    "solar_array = np.loadtxt('thomasAndBrown.txt', delimiter=',', dtype=bool)\n",
    "[z, c] = solar_array.shape"
   ]
  },
  {
   "cell_type": "markdown",
   "metadata": {},
   "source": [
    "# Section 6: 3D Matrix Representing the System\n",
    "\n",
    "This section creates a 3D matrix representation of the solar array system to a 1 $cm^{2}$ resolution.\n",
    "\n",
    "The number of columns in this matrix will be such that it represents the actual width of the array system to the nearest centimeter. \n",
    "\n",
    "The total area is also calculated for later purposes."
   ]
  },
  {
   "cell_type": "code",
   "execution_count": 7,
   "metadata": {},
   "outputs": [],
   "source": [
    "cols = int(c * (W+panel_spacing))\n",
    "solar_sys_mat_3D = np.zeros((H,cols,z))\n",
    "for i in range(z):\n",
    "    row_vals = panel_dims*solar_array[i,1]\n",
    "    for j in range(1,c):\n",
    "         new_entry = panel_dims * solar_array[i,j]\n",
    "         row_vals = np.concatenate((row_vals,new_entry),axis=1)\n",
    "    solar_sys_mat_3D[:, :, i] = row_vals\n",
    "solar_sys_mat_3D = solar_sys_mat_3D.astype(bool)\n",
    "total_area = sum(sum(sum(solar_sys_mat_3D)))"
   ]
  },
  {
   "cell_type": "markdown",
   "metadata": {},
   "source": [
    "# Section 7: Vertical Shading Displacement\n",
    "\n",
    "This sections calculates the height of the shadow on the row behind it. This calculation is complicated geometrically so I have a diagram here and an explanation of the diagram below.\n",
    "\n",
    "![title](vertical_shading_displacement.png)\n",
    "\n",
    "The goal of this section is to find the length of the green segment, then subtract that from the height of a panel which gives the index of the highest point that is shaded on the panel. Now let's go through the geometry.\n",
    "\n",
    "${\\theta}_{0}$ is the inverse tangent of the opposite and adjacent sides, both of which are determined by the physical values of the system, so this angle does not change during the evaluation.\n",
    "\n",
    "${\\theta}_{a}$ can be found by subtracting ${\\beta}$ and ${\\theta}_{0}$ from ${180}^{o}$. Since this angle is also based on the physical values of the system, this angle does not change.\n",
    "\n",
    "${\\theta}_{b}$ can be found by subtracting the adjacent angles from ${180}^{o}$. These adjacent angles are each part of right triangles and can be found by the evaluation of ${90}^{o}-{\\alpha}$ and ${90}^{o}-{\\beta}$. Simplifying the resulting equation shows that ${\\theta}_{a}={\\alpha}+{\\beta}$. This value also will change in the evaluation based on the angle ${\\alpha}$.\n",
    "\n",
    "The line indicated by the letter ${b}$ can be found from the square root of the sum of the squares of the other two sides in the right triangle. The other sides are the row spacing and ${Hsin}{\\beta}$ which are again system values which do not change.\n",
    "\n",
    "The line indicated by the letter ${a}$ represents the distance from the top of the first solar panel, to the point it hits on the next panel. This distance will change throughout the evaluation and based on the values found earlier, can now be found using the Law of Sines ($\\frac{a}{sin{\\theta}_{a}}=\\frac{b}{sin{\\theta}_{b}}$).\n",
    "\n",
    "Now that we have ${a}$, we can find the section of length that we set out to find, which comes from the realization that the vertical line segment above the green line is shared by two right triangles, which yields the expression ${a}{\\cdot}{sin{\\alpha}}={length}{\\cdot}{sin{\\beta}}$.\n",
    "\n",
    "Subtracting this length from the height of the panel gives us the index of the highest point on the panel that is shaded."
   ]
  },
  {
   "cell_type": "code",
   "execution_count": 8,
   "metadata": {},
   "outputs": [],
   "source": [
    "theta_0 = np.arctan2(H*np.sin(tilt), row_spacing)\n",
    "theta_a = (180-(theta_0*180/np.pi)-beta)*np.pi/180\n",
    "theta_b = (solar_altitude+tilt)\n",
    "b = np.sqrt(row_spacing**2+H**2*np.sin(tilt)**2)\n",
    "a = b*np.sin(theta_a)/np.sin(theta_b)\n",
    "shading_vert_disp = a * np.sin(solar_altitude)/np.sin(tilt)\n",
    "ind = (H-shading_vert_disp).astype(int)"
   ]
  },
  {
   "cell_type": "markdown",
   "metadata": {},
   "source": [
    "# Section 8: Horizontal Shading Displacement\n",
    "\n",
    "This section calculates the horizontal displacement of the shadow from one panel onto the row behind it. A diagram of this calculation is as follows:\n",
    "\n",
    "![title](horizontal_shading_displacement.png)\n",
    "\n",
    "Where the actual displacement is found by ${L}{\\cdot}{tan({a}_{rel})}$, where ${L}$ is the distance between corresponding points calculated earlier and ${a}_{rel}$ is the relative azimuth.\n",
    "\n",
    "The shading condition calculated here indicates the direction that a panel's shadow falls, i.e. if the shading condition is negative then the sun's azimuth is to the East of the panel azimuth and the panel's shadow is to the West."
   ]
  },
  {
   "cell_type": "code",
   "execution_count": 9,
   "metadata": {},
   "outputs": [],
   "source": [
    "shading_horiz_disp = (abs(np.multiply(L,np.tan(rel_solar_azimuth)))).astype(int)\n",
    "shading_condition = np.sin(rel_solar_azimuth*np.pi/180)"
   ]
  },
  {
   "cell_type": "markdown",
   "metadata": {},
   "source": [
    "# Section 9: Shading Loss Calculation\n",
    "\n",
    "Shading is intialized as a matrix of boolean Trues with one less sheet than the 3D system matrix because the last row will not cast a shadow on any other panels. The calculated_insolation value is initialized as 0 and is a running sum for each loop iteration. The no_shading_condition is the total area of the panels that are not in the front row. The front row area value is included in the insolation calculation and is separate because this row does not experience shading based on the assumptions of this model.\n",
    "\n",
    "The first if-else statement in the loop checks if the top of the shadow falls on the panel, or above the panel. If the shadow does not fall on the panel then there is no shading on the panels and the shading calculation does not need to be completed, which sets to unshaded area to the no_shading_area condition. If the shadow is at or above the top of the next panel, then the only displacement necessary to incorporate is the horizonatal shading.\n",
    "\n",
    "The nested if-else statements determine the direction that the shadow moves horizontally and then assigns the shading to the correct indices based on the displacements calculated.\n",
    "\n",
    "The shadow is calculated as the inverse of the corresponding area of all rows but the last one. By using the inverse of these elements, in an index where a panel was there will now be a False because there is shade in this location, and where there is no panel there will now be a True at this location.\n",
    "\n",
    "Now that the shading has been calculated it is multiplied element by element with all sheets of the system matrix except for the first row, and the result is summed to get the total unshaded area. \n",
    "\n",
    "Now that the shading has been calculated, the unshaded area is added to the front row area to get the total area that receives sunlight, then divided by the total area, and multiplied by the insolation at this time to get the actual energy produced by the solar system array. The shading matrix is then reset to all True values for the next iteration.\n",
    "\n",
    "The loss that the system experiences due to shading is one minus the fraction of the calculated energy production to the theoretical energy production if the system experienced no shading."
   ]
  },
  {
   "cell_type": "code",
   "execution_count": 10,
   "metadata": {},
   "outputs": [
    {
     "name": "stdout",
     "output_type": "stream",
     "text": [
      "Calculating shading loss. This will take a few minutes, please wait...\n",
      "... 10 % complete ...\n",
      "... 20 % complete ...\n",
      "... 30 % complete ...\n",
      "... 40 % complete ...\n",
      "... 50 % complete ...\n",
      "... 60 % complete ...\n",
      "... 70 % complete ...\n",
      "... 80 % complete ...\n",
      "... 90 % complete ...\n",
      "... 100 % complete ...\n",
      "\n",
      "Shading loss =  8.93 %\n"
     ]
    }
   ],
   "source": [
    "shading = np.ones((H,cols,z-1)).astype(bool)\n",
    "calculated_insolation = 0\n",
    "no_shading_area = sum(sum(sum(solar_sys_mat_3D[:,:,1:z])))\n",
    "front_row_area = sum(sum(solar_sys_mat_3D[:,:,0]))\n",
    "indicators = np.linspace(0.1*numTimes,numTimes,10).astype(int)\n",
    "j = 0\n",
    "print('Calculating shading loss. This will take a few minutes, please wait...')\n",
    "for ii in range(numTimes):\n",
    "    if ind[ii] > 0 and ind[ii] < H:\n",
    "        if shading_condition[ii] < 0:\n",
    "            shading[0:ind[ii],0:cols-shading_horiz_disp[ii],:]=np.invert(solar_sys_mat_3D[H-ind[ii]:H,shading_horiz_disp[ii]:cols,0:z-1])\n",
    "        elif shading_condition[ii] > 0:\n",
    "            shading[0:ind[ii],shading_horiz_disp[ii]:cols,:]=np.invert(solar_sys_mat_3D[H-ind[ii]:H,shading_horiz_disp[ii]:cols,0:z-1])\n",
    "        else:\n",
    "            shading[0:ind[ii], :, :] = np.invert(solar_sys_mat_3D[H-ind[ii]:H,:,0:z-1])\n",
    "        unshaded_area = sum(sum(sum(np.multiply(solar_sys_mat_3D[:,:,1:z], shading))))\n",
    "    elif ind[ii] >= H:\n",
    "        if shading_condition[ii] < 0:\n",
    "            shading[:,0:cols-shading_horiz_disp[ii],:] = np.invert(solar_sys_mat_3D[:,shading_horiz_disp[ii]:cols,0:z-1])\n",
    "        elif shading_condition[ii] > 0:\n",
    "            shading[:,shading_horiz_disp[ii]:cols,:]=np.invert(solar_sys_mat_3D[:,shading_horiz_disp[ii]:cols,0:z-1])\n",
    "        else:\n",
    "            shading[:,:,:] = np.invert(solar_sys_mat_3D[:,:,0:z-1])\n",
    "        unshaded_area = sum(sum(sum(np.multiply(solar_sys_mat_3D[:,:,1:z], shading))))\n",
    "    else:\n",
    "        unshaded_area = no_shading_area\n",
    "    calculated_insolation = calculated_insolation + ((unshaded_area+front_row_area)/total_area)*insolation[ii]\n",
    "    shading[:,:,:] = True\n",
    "    if ii+1 == indicators[j]:\n",
    "        print('...',10*(j+1),'% complete ...')\n",
    "        j += 1\n",
    "shading_loss = 1 - (calculated_insolation / tot_insolation)\n",
    "print('')\n",
    "print('Shading loss = ', round(shading_loss*100,2), '%')"
   ]
  }
 ],
 "metadata": {
  "kernelspec": {
   "display_name": "Python 3",
   "language": "python",
   "name": "python3"
  },
  "language_info": {
   "codemirror_mode": {
    "name": "ipython",
    "version": 3
   },
   "file_extension": ".py",
   "mimetype": "text/x-python",
   "name": "python",
   "nbconvert_exporter": "python",
   "pygments_lexer": "ipython3",
   "version": "3.7.6"
  }
 },
 "nbformat": 4,
 "nbformat_minor": 4
}
